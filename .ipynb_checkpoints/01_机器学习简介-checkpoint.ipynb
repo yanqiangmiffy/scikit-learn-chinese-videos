{
 "cells": [
  {
   "cell_type": "markdown",
   "metadata": {
    "collapsed": true
   },
   "source": [
    "# <center>**机器学习简介**</center>\n",
    "![机器学习简介](https://github.com/justmarkham/scikit-learn-videos/raw/84f03ae1d048482471f2a9ca85b0c649730cc269/images/01_robot.png)"
   ]
  },
  {
   "cell_type": "markdown",
   "metadata": {},
   "source": [
    "# 目录\n",
    " - 机器学习是什么\n",
    " - 机器学习的两种主要类别\n",
    " - 机器学习实例\n",
    " - 机器学习的“工作”步骤"
   ]
  },
  {
   "cell_type": "markdown",
   "metadata": {},
   "source": [
    "# 机器学习是什么\n",
    "一个定义:“机器学习就是从数据中半自动地挖掘知识”\n",
    "- **数据中的知识**：启发一个可以通过数据解决的问题\n",
    "- **自动提取**：计算机提供了洞察力\n",
    "- **半自动**：需要很多人类的决定"
   ]
  },
  {
   "cell_type": "markdown",
   "metadata": {},
   "source": [
    "# 机器学习的两种主要类别\n",
    "**监督学习**：使用数据去预测\n",
    "- 举例：一个给定的邮件是否“垃圾邮件”？\n",
    "- 下面是我们想要尝试的预测\n",
    "![](https://github.com/justmarkham/scikit-learn-videos/raw/84f03ae1d048482471f2a9ca85b0c649730cc269/images/01_spam_filter.png)\n",
    "**无监督学习**：从“零散”数据中提取结构化数据\n",
    "- 举例：将杂货店具有相似购买行为的消费者分类为集群\n",
    "- 没有“100%的答案”\n",
    "![](https://github.com/justmarkham/scikit-learn-videos/raw/84f03ae1d048482471f2a9ca85b0c649730cc269/images/01_clustering.png)"
   ]
  },
  {
   "cell_type": "markdown",
   "metadata": {},
   "source": [
    "# 机器学习的“工作”步骤\n",
    "高级监督学习的步骤：\n",
    "1. 首先使用标注数据来训练一个机器学习模型\n",
    "   - \"标注数据\" 是指标记着结果的数据\n",
    "   - “机器学习模型”用来学习这些数据的特征或属性与结果之间的关系\n",
    "2. 然后，基于没有标注的数据来预测结果\n",
    "![](https://github.com/justmarkham/scikit-learn-videos/raw/84f03ae1d048482471f2a9ca85b0c649730cc269/images/01_supervised_learning.png)\n",
    "监督学习的主要目标是建立一个模型，它可以准确预测外来，而不是过去！"
   ]
  },
  {
   "cell_type": "markdown",
   "metadata": {},
   "source": [
    "# 相关资源\n",
    "- 参考资料: [An Introduction to Statistical Learning](http://www-bcf.usc.edu/~gareth/ISL/) (section 2.1, 14 pages)\n",
    "- 视频：[Learning Paradigms](http://work.caltech.edu/library/014.html) (13 minutes)"
   ]
  }
 ],
 "metadata": {
  "kernelspec": {
   "display_name": "Python 3",
   "language": "python",
   "name": "python3"
  },
  "language_info": {
   "codemirror_mode": {
    "name": "ipython",
    "version": 3
   },
   "file_extension": ".py",
   "mimetype": "text/x-python",
   "name": "python",
   "nbconvert_exporter": "python",
   "pygments_lexer": "ipython3",
   "version": "3.6.1"
  }
 },
 "nbformat": 4,
 "nbformat_minor": 1
}
